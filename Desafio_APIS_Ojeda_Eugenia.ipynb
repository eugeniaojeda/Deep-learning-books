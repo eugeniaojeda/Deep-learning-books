{
  "nbformat": 4,
  "nbformat_minor": 0,
  "metadata": {
    "colab": {
      "provenance": [],
      "authorship_tag": "ABX9TyPJX1vefEbKKRp+s6BPd9K2",
      "include_colab_link": true
    },
    "kernelspec": {
      "name": "python3",
      "display_name": "Python 3"
    },
    "language_info": {
      "name": "python"
    }
  },
  "cells": [
    {
      "cell_type": "markdown",
      "metadata": {
        "id": "view-in-github",
        "colab_type": "text"
      },
      "source": [
        "<a href=\"https://colab.research.google.com/github/eugeniaojeda/Deep-learning-books/blob/CoderHouseEugeniaOjeda/Desafio_APIS_Ojeda_Eugenia.ipynb\" target=\"_parent\"><img src=\"https://colab.research.google.com/assets/colab-badge.svg\" alt=\"Open In Colab\"/></a>"
      ]
    },
    {
      "cell_type": "code",
      "source": [
        "!pip install tweepy newsapi-python"
      ],
      "metadata": {
        "id": "nOkix6hbpmG1",
        "colab": {
          "base_uri": "https://localhost:8080/"
        },
        "outputId": "2f97d5a8-9800-460f-eb8c-7c439ae0379a"
      },
      "execution_count": null,
      "outputs": [
        {
          "output_type": "stream",
          "name": "stdout",
          "text": [
            "Looking in indexes: https://pypi.org/simple, https://us-python.pkg.dev/colab-wheels/public/simple/\n",
            "Requirement already satisfied: tweepy in /usr/local/lib/python3.10/dist-packages (4.13.0)\n",
            "Collecting newsapi-python\n",
            "  Downloading newsapi_python-0.2.7-py2.py3-none-any.whl (7.9 kB)\n",
            "Requirement already satisfied: oauthlib<4,>=3.2.0 in /usr/local/lib/python3.10/dist-packages (from tweepy) (3.2.2)\n",
            "Requirement already satisfied: requests<3,>=2.27.0 in /usr/local/lib/python3.10/dist-packages (from tweepy) (2.27.1)\n",
            "Requirement already satisfied: requests-oauthlib<2,>=1.2.0 in /usr/local/lib/python3.10/dist-packages (from tweepy) (1.3.1)\n",
            "Requirement already satisfied: urllib3<1.27,>=1.21.1 in /usr/local/lib/python3.10/dist-packages (from requests<3,>=2.27.0->tweepy) (1.26.15)\n",
            "Requirement already satisfied: certifi>=2017.4.17 in /usr/local/lib/python3.10/dist-packages (from requests<3,>=2.27.0->tweepy) (2022.12.7)\n",
            "Requirement already satisfied: charset-normalizer~=2.0.0 in /usr/local/lib/python3.10/dist-packages (from requests<3,>=2.27.0->tweepy) (2.0.12)\n",
            "Requirement already satisfied: idna<4,>=2.5 in /usr/local/lib/python3.10/dist-packages (from requests<3,>=2.27.0->tweepy) (3.4)\n",
            "Installing collected packages: newsapi-python\n",
            "Successfully installed newsapi-python-0.2.7\n"
          ]
        }
      ]
    },
    {
      "cell_type": "markdown",
      "source": [
        "Importar las bibliotecas necesarias: pandas, requests y json."
      ],
      "metadata": {
        "id": "zCH3uBIJCDkz"
      }
    },
    {
      "cell_type": "code",
      "execution_count": null,
      "metadata": {
        "id": "DsP45YRQiTp8"
      },
      "outputs": [],
      "source": [
        "import pandas as pd\n",
        "import tweepy\n",
        "from newsapi import NewsApiClient\n"
      ]
    },
    {
      "cell_type": "markdown",
      "source": [
        "Para obtener relación con lo trabajado hasta el momento,\n",
        "el dataset covid19casos.csv del siguiente link: https://www.kaggle.com/datasets/vladimirobellini/covid19ardata?resource=download con el cual se realizó las entregas anteriores, se busca información en NewsAPI."
      ],
      "metadata": {
        "id": "CiJuKjxRBnwJ"
      }
    },
    {
      "cell_type": "markdown",
      "source": [
        "Pasos necesarios para la creación del nuevo DataFrame"
      ],
      "metadata": {
        "id": "hNGIdXPNCTkU"
      }
    },
    {
      "cell_type": "markdown",
      "source": [
        "Importar las bibliotecas necesarias: pandas, requests y json.\n",
        "\n",
        "Obtener la información de la API pública utilizando la biblioteca requests.\n",
        "\n",
        "Procesar los datos obtenidos en formato JSON.\n",
        "\n",
        "Crear un nuevo dataframe con los datos obtenidos.\n",
        "\n",
        "Explorar el nuevo dataframe.\n",
        "\n",
        "Almacenar los datos en un archivo CSV."
      ],
      "metadata": {
        "id": "sE4K-AanCKh2"
      }
    },
    {
      "cell_type": "code",
      "source": [
        "import pandas as pd\n",
        "import requests\n",
        "import json\n",
        "\n",
        "# Obtener la API mediante registro en el sitio web\n",
        "api_key = '4515ff01dfde41be977f107f6d04b722'\n",
        "\n",
        "# Definir los parámetros de la solicitud de noticias\n",
        "parameters = {\n",
        "    'q': 'COVID-19',  # Palabra clave para buscar noticias relacionadas con COVID-19\n",
        "    'language': 'es',  # Idioma de las noticias (español)\n",
        "    'pageSize': 100  # Número máximo de noticias a obtener (máximo: 100)\n",
        "}\n",
        "\n",
        "# Hacer la solicitud a la API de noticias\n",
        "response = requests.get(f'https://newsapi.org/v2/everything?apiKey={api_key}', params=parameters)\n",
        "\n",
        "# Obtener los datos en formato JSON\n",
        "data = json.loads(response.text)\n",
        "\n",
        "# Extraer los datos relevantes para el nuevo dataframe\n",
        "articles = data['articles']\n",
        "df = pd.DataFrame(articles)\n",
        "\n",
        "# Explorar el nuevo dataframe\n",
        "print(df.head())  # Muestra las primeras filas del dataframe\n",
        "print(df.shape)  # Muestra el número de filas y columnas\n",
        "print(df.dtypes)  # Muestra los tipos de datos de cada columna\n",
        "\n",
        "# Almacenar los datos en un archivo CSV\n",
        "df.to_csv('news_data.csv', index=False)\n"
      ],
      "metadata": {
        "id": "Arkry7G9-Zto",
        "outputId": "afef4778-fb94-419e-da49-924ec3a58baa",
        "colab": {
          "base_uri": "https://localhost:8080/"
        }
      },
      "execution_count": null,
      "outputs": [
        {
          "output_type": "stream",
          "name": "stdout",
          "text": [
            "                                 source              author  \\\n",
            "0  {'id': None, 'name': 'Hipertextual'}        Tomás Rivero   \n",
            "1  {'id': None, 'name': 'Hipertextual'}       Gabriel Erard   \n",
            "2  {'id': None, 'name': 'Hipertextual'}      Azucena Martín   \n",
            "3  {'id': None, 'name': 'Hipertextual'}  Nolan Rada Galindo   \n",
            "4  {'id': None, 'name': 'Hipertextual'}      Azucena Martín   \n",
            "\n",
            "                                               title  \\\n",
            "0  Pedro Cavadas alerta sobre la próxima pandemia...   \n",
            "1  El CEO de OpenAI quiere acabar con el teletrab...   \n",
            "2  La OMS declara el fin de la emergencia sanitar...   \n",
            "3  Tom Cruise está rabioso por el estreno de ‘Bar...   \n",
            "4  Taopatch, el superparche que ‘convierte’ a Djo...   \n",
            "\n",
            "                                         description  \\\n",
            "0  En España, la pandemia del coronavirus se ha c...   \n",
            "1  A medida que la pandemia de la COVID-19 se ha ...   \n",
            "2  Tras la reunión del Comité de Emergencias de l...   \n",
            "3  Regresan las batallas en la taquilla. Antes de...   \n",
            "4  El tenista Novak Djokovic ha sido noticia por ...   \n",
            "\n",
            "                                                 url  \\\n",
            "0  http://hipertextual.com/2023/05/pedro-cavadas-...   \n",
            "1  http://hipertextual.com/2023/05/ceo-openai-aca...   \n",
            "2  http://hipertextual.com/2023/05/fin-emergencia...   \n",
            "3  http://hipertextual.com/2023/06/tom-cruise-par...   \n",
            "4  http://hipertextual.com/2023/06/djokovic-iron-man   \n",
            "\n",
            "                                          urlToImage           publishedAt  \\\n",
            "0  https://imgs.hipertextual.com/wp-content/uploa...  2023-05-24T15:04:46Z   \n",
            "1  https://imgs.hipertextual.com/wp-content/uploa...  2023-05-08T13:56:59Z   \n",
            "2  https://imgs.hipertextual.com/wp-content/uploa...  2023-05-05T13:45:29Z   \n",
            "3  https://i0.wp.com/imgs.hipertextual.com/wp-con...  2023-06-02T21:02:00Z   \n",
            "4  https://imgs.hipertextual.com/wp-content/uploa...  2023-06-02T11:09:48Z   \n",
            "\n",
            "                                             content  \n",
            "0  En España, la pandemia del coronavirus se ha c...  \n",
            "1  A medida que la pandemia de la COVID-19 se ha ...  \n",
            "2  Tras la reunión del Comité de Emergencias de l...  \n",
            "3  Regresan las batallas en la taquilla. Antes de...  \n",
            "4  El tenista Novak Djokovicha sido noticia por s...  \n",
            "(100, 8)\n",
            "source         object\n",
            "author         object\n",
            "title          object\n",
            "description    object\n",
            "url            object\n",
            "urlToImage     object\n",
            "publishedAt    object\n",
            "content        object\n",
            "dtype: object\n"
          ]
        }
      ]
    },
    {
      "cell_type": "markdown",
      "source": [
        "El dataframe creado a partir de la API de noticias contiene información relacionada con artículos de noticias sobre COVID-19. Cada fila del dataframe representa un artículo de noticias y cada columna representa una característica o atributo asociado con ese artículo.\n",
        "\n",
        "Incluye información:\n",
        "\n",
        "source: El origen o fuente de la noticia.\n",
        "\n",
        "author: El autor del artículo.\n",
        "\n",
        "title: El título del artículo de noticias.\n",
        "\n",
        "description: Una breve descripción o resumen del artículo.\n",
        "\n",
        "url: El enlace URL al artículo completo.\n",
        "\n",
        "urlToImage: URL de una imagen asociada con el artículo.\n",
        "\n",
        "publishedAt: La fecha y hora de publicación del artículo.\n",
        "\n",
        "content: El contenido completo del artículo."
      ],
      "metadata": {
        "id": "jnGfg8qeBQOy"
      }
    },
    {
      "cell_type": "code",
      "source": [
        "df.describe()"
      ],
      "metadata": {
        "id": "cFoQd2KZAvbw",
        "outputId": "6a157fed-ed46-4e00-dd27-314a7cbfa7d9",
        "colab": {
          "base_uri": "https://localhost:8080/",
          "height": 271
        }
      },
      "execution_count": null,
      "outputs": [
        {
          "output_type": "execute_result",
          "data": {
            "text/plain": [
              "                                      source                           author  \\\n",
              "count                                    100                              100   \n",
              "unique                                    25                               55   \n",
              "top     {'id': None, 'name': 'Hipertextual'}  RT en Español\\n , RT en Español   \n",
              "freq                                      18                               10   \n",
              "\n",
              "                                                    title description  \\\n",
              "count                                                 100         100   \n",
              "unique                                                 99          98   \n",
              "top     La OMS declara el fin de la emergencia de salu...               \n",
              "freq                                                    2           3   \n",
              "\n",
              "                                                      url  \\\n",
              "count                                                 100   \n",
              "unique                                                100   \n",
              "top     http://hipertextual.com/2023/05/pedro-cavadas-...   \n",
              "freq                                                    1   \n",
              "\n",
              "                                               urlToImage  \\\n",
              "count                                                 100   \n",
              "unique                                                 99   \n",
              "top     https://cnnespanol.cnn.com/wp-content/uploads/...   \n",
              "freq                                                    2   \n",
              "\n",
              "                 publishedAt  \\\n",
              "count                    100   \n",
              "unique                   100   \n",
              "top     2023-05-24T15:04:46Z   \n",
              "freq                       1   \n",
              "\n",
              "                                                  content  \n",
              "count                                                 100  \n",
              "unique                                                100  \n",
              "top     En España, la pandemia del coronavirus se ha c...  \n",
              "freq                                                    1  "
            ],
            "text/html": [
              "\n",
              "  <div id=\"df-b2b8885d-5648-4b04-b0e6-777e2d5a3393\">\n",
              "    <div class=\"colab-df-container\">\n",
              "      <div>\n",
              "<style scoped>\n",
              "    .dataframe tbody tr th:only-of-type {\n",
              "        vertical-align: middle;\n",
              "    }\n",
              "\n",
              "    .dataframe tbody tr th {\n",
              "        vertical-align: top;\n",
              "    }\n",
              "\n",
              "    .dataframe thead th {\n",
              "        text-align: right;\n",
              "    }\n",
              "</style>\n",
              "<table border=\"1\" class=\"dataframe\">\n",
              "  <thead>\n",
              "    <tr style=\"text-align: right;\">\n",
              "      <th></th>\n",
              "      <th>source</th>\n",
              "      <th>author</th>\n",
              "      <th>title</th>\n",
              "      <th>description</th>\n",
              "      <th>url</th>\n",
              "      <th>urlToImage</th>\n",
              "      <th>publishedAt</th>\n",
              "      <th>content</th>\n",
              "    </tr>\n",
              "  </thead>\n",
              "  <tbody>\n",
              "    <tr>\n",
              "      <th>count</th>\n",
              "      <td>100</td>\n",
              "      <td>100</td>\n",
              "      <td>100</td>\n",
              "      <td>100</td>\n",
              "      <td>100</td>\n",
              "      <td>100</td>\n",
              "      <td>100</td>\n",
              "      <td>100</td>\n",
              "    </tr>\n",
              "    <tr>\n",
              "      <th>unique</th>\n",
              "      <td>25</td>\n",
              "      <td>55</td>\n",
              "      <td>99</td>\n",
              "      <td>98</td>\n",
              "      <td>100</td>\n",
              "      <td>99</td>\n",
              "      <td>100</td>\n",
              "      <td>100</td>\n",
              "    </tr>\n",
              "    <tr>\n",
              "      <th>top</th>\n",
              "      <td>{'id': None, 'name': 'Hipertextual'}</td>\n",
              "      <td>RT en Español\\n , RT en Español</td>\n",
              "      <td>La OMS declara el fin de la emergencia de salu...</td>\n",
              "      <td></td>\n",
              "      <td>http://hipertextual.com/2023/05/pedro-cavadas-...</td>\n",
              "      <td>https://cnnespanol.cnn.com/wp-content/uploads/...</td>\n",
              "      <td>2023-05-24T15:04:46Z</td>\n",
              "      <td>En España, la pandemia del coronavirus se ha c...</td>\n",
              "    </tr>\n",
              "    <tr>\n",
              "      <th>freq</th>\n",
              "      <td>18</td>\n",
              "      <td>10</td>\n",
              "      <td>2</td>\n",
              "      <td>3</td>\n",
              "      <td>1</td>\n",
              "      <td>2</td>\n",
              "      <td>1</td>\n",
              "      <td>1</td>\n",
              "    </tr>\n",
              "  </tbody>\n",
              "</table>\n",
              "</div>\n",
              "      <button class=\"colab-df-convert\" onclick=\"convertToInteractive('df-b2b8885d-5648-4b04-b0e6-777e2d5a3393')\"\n",
              "              title=\"Convert this dataframe to an interactive table.\"\n",
              "              style=\"display:none;\">\n",
              "        \n",
              "  <svg xmlns=\"http://www.w3.org/2000/svg\" height=\"24px\"viewBox=\"0 0 24 24\"\n",
              "       width=\"24px\">\n",
              "    <path d=\"M0 0h24v24H0V0z\" fill=\"none\"/>\n",
              "    <path d=\"M18.56 5.44l.94 2.06.94-2.06 2.06-.94-2.06-.94-.94-2.06-.94 2.06-2.06.94zm-11 1L8.5 8.5l.94-2.06 2.06-.94-2.06-.94L8.5 2.5l-.94 2.06-2.06.94zm10 10l.94 2.06.94-2.06 2.06-.94-2.06-.94-.94-2.06-.94 2.06-2.06.94z\"/><path d=\"M17.41 7.96l-1.37-1.37c-.4-.4-.92-.59-1.43-.59-.52 0-1.04.2-1.43.59L10.3 9.45l-7.72 7.72c-.78.78-.78 2.05 0 2.83L4 21.41c.39.39.9.59 1.41.59.51 0 1.02-.2 1.41-.59l7.78-7.78 2.81-2.81c.8-.78.8-2.07 0-2.86zM5.41 20L4 18.59l7.72-7.72 1.47 1.35L5.41 20z\"/>\n",
              "  </svg>\n",
              "      </button>\n",
              "      \n",
              "  <style>\n",
              "    .colab-df-container {\n",
              "      display:flex;\n",
              "      flex-wrap:wrap;\n",
              "      gap: 12px;\n",
              "    }\n",
              "\n",
              "    .colab-df-convert {\n",
              "      background-color: #E8F0FE;\n",
              "      border: none;\n",
              "      border-radius: 50%;\n",
              "      cursor: pointer;\n",
              "      display: none;\n",
              "      fill: #1967D2;\n",
              "      height: 32px;\n",
              "      padding: 0 0 0 0;\n",
              "      width: 32px;\n",
              "    }\n",
              "\n",
              "    .colab-df-convert:hover {\n",
              "      background-color: #E2EBFA;\n",
              "      box-shadow: 0px 1px 2px rgba(60, 64, 67, 0.3), 0px 1px 3px 1px rgba(60, 64, 67, 0.15);\n",
              "      fill: #174EA6;\n",
              "    }\n",
              "\n",
              "    [theme=dark] .colab-df-convert {\n",
              "      background-color: #3B4455;\n",
              "      fill: #D2E3FC;\n",
              "    }\n",
              "\n",
              "    [theme=dark] .colab-df-convert:hover {\n",
              "      background-color: #434B5C;\n",
              "      box-shadow: 0px 1px 3px 1px rgba(0, 0, 0, 0.15);\n",
              "      filter: drop-shadow(0px 1px 2px rgba(0, 0, 0, 0.3));\n",
              "      fill: #FFFFFF;\n",
              "    }\n",
              "  </style>\n",
              "\n",
              "      <script>\n",
              "        const buttonEl =\n",
              "          document.querySelector('#df-b2b8885d-5648-4b04-b0e6-777e2d5a3393 button.colab-df-convert');\n",
              "        buttonEl.style.display =\n",
              "          google.colab.kernel.accessAllowed ? 'block' : 'none';\n",
              "\n",
              "        async function convertToInteractive(key) {\n",
              "          const element = document.querySelector('#df-b2b8885d-5648-4b04-b0e6-777e2d5a3393');\n",
              "          const dataTable =\n",
              "            await google.colab.kernel.invokeFunction('convertToInteractive',\n",
              "                                                     [key], {});\n",
              "          if (!dataTable) return;\n",
              "\n",
              "          const docLinkHtml = 'Like what you see? Visit the ' +\n",
              "            '<a target=\"_blank\" href=https://colab.research.google.com/notebooks/data_table.ipynb>data table notebook</a>'\n",
              "            + ' to learn more about interactive tables.';\n",
              "          element.innerHTML = '';\n",
              "          dataTable['output_type'] = 'display_data';\n",
              "          await google.colab.output.renderOutput(dataTable, element);\n",
              "          const docLink = document.createElement('div');\n",
              "          docLink.innerHTML = docLinkHtml;\n",
              "          element.appendChild(docLink);\n",
              "        }\n",
              "      </script>\n",
              "    </div>\n",
              "  </div>\n",
              "  "
            ]
          },
          "metadata": {},
          "execution_count": 48
        }
      ]
    }
  ]
}